{
 "cells": [
  {
   "cell_type": "markdown",
   "metadata": {},
   "source": [
    "# **Telco Customer Churn**\n",
    "\n",
    "### Muhammad Reza Hamzah\n",
    "\n",
    " copyright@2024"
   ]
  },
  {
   "cell_type": "markdown",
   "metadata": {},
   "source": [
    "Abstact "
   ]
  },
  {
   "cell_type": "markdown",
   "metadata": {},
   "source": [
    "[Telco Churn](https://databoks.katadata.co.id/datapublish/2022/06/02/sektor-informasi-dan-komunikasi-masih-tumbuh-pesat-pada-kuartal-i-2022#:~:text=Berdasarkan%20data%20Badan%20Pusat%20Statistik,pertumbuhan%20sektor%20transportasi%20dan%20pergudangan.)\n",
    "\n",
    "Peningkatan persaingan di industri layanan telekomunikasi menuntut perhatian khusus dari penyedia layanan untuk mempertahankan basis pelanggan mereka. Saat ini, tantangan utama yang dihadapi adalah menjaga kesetiaan pelanggan dan mencegah beralihnya pelanggan ke pesaing.\n",
    "\n",
    "Dalam upaya menghadapi dinamika pasar, perusahaan perlu memahami perilaku pelanggan secara lebih mendalam. Identifikasi pelanggan yang berpotensi untuk beralih (churn) dan pelanggan yang tetap setia (no churn) menjadi kunci dalam mengantisipasi kerugian potensial.\n",
    "\n",
    "Dataset ini mencerminkan profil pelanggan di industri telekomunikasi, mencakup baik pelanggan yang telah beralih (churn) maupun yang masih setia menggunakan layanan (no churn). Churn terjadi ketika pelanggan memutuskan untuk meninggalkan penyedia layanan.\n",
    "\n",
    "Dengan fokus pada analisis data, perusahaan dapat mengembangkan strategi yang lebih cerdas untuk mempertahankan pelanggan dan meningkatkan kepuasan mereka. Pengelompokan pelanggan menjadi dua kategori utama, yaitu pelanggan yang bertahan (no churn) dan pelanggan yang beralih (churn), membantu perusahaan untuk mengambil langkah-langkah preventif yang efektif dan mengoptimalkan retensi pelanggan.\n"
   ]
  },
  {
   "cell_type": "markdown",
   "metadata": {},
   "source": [
    "**Probelm Statement :**\n",
    "\n",
    "Dalam upaya memperoleh pelanggan, perusahaan telah melibatkan sejumlah strategi, upaya, dan waktu untuk membangun hubungan. Sayangnya, kehilangan pelanggan setelah usaha besar ini tentu menjadi suatu kerugian yang patut dihindari.\n",
    "\n",
    "Oleh karena itu, menjaga dan meningkatkan pertumbuhan perusahaan menjadi suatu prioritas utama. Mengamankan pelanggan yang sudah diperoleh agar tidak beralih menjadi hal krusial untuk memastikan tingkat pertumbuhan yang optimal. Salah satu pendekatan yang dapat diambil untuk mengendalikan tingkat churn adalah melalui prediksi pelanggan yang berpotensi beralih, sehingga perusahaan dapat menyesuaikan strategi yang diperlukan untuk mencegah kehilangan pelanggan tersebut.\n",
    "\n",
    "Menyadari pentingnya meramalkan target pelanggan yang tepat, perusahaan dapat merinci metode yang lebih spesifik untuk mencegah churn dan menjaga keberlanjutan pertumbuhan. Dengan memahami perilaku pelanggan dan mengimplementasikan langkah-langkah pencegahan yang sesuai, perusahaan dapat menjaga konsistensi dalam pertumbuhan bisnisnya serta meminimalkan risiko penurunan churn rate."
   ]
  },
  {
   "cell_type": "markdown",
   "metadata": {},
   "source": [
    "**Goals :**\n",
    "\n",
    "Dalam menghadapi tantangan tersebut, perusahaan bersikeras untuk mengembangkan kemampuan prediktif guna meramalkan apakah seorang pelanggan akan cenderung beralih atau tetap menggunakan layanan. Hal ini penting untuk memungkinkan perusahaan mengambil tindakan pencegahan yang diperlukan, mengingat menggantikan pelanggan yang telah berhenti bisa menjadi tugas yang sulit dan mahal.\n",
    "\n",
    "Tak hanya itu, perusahaan juga berkeinginan untuk memahami faktor-faktor yang memengaruhi keputusan pelanggan untuk beralih atau tetap. Dengan mengetahui akar penyebab churn dan faktor-faktor yang membuat pelanggan tetap setia, perusahaan dapat merancang insentif atau promosi khusus yang dapat mempertahankan pelanggan yang memiliki kecenderungan untuk berhenti. Selain itu, langkah-langkah ini juga dapat digunakan untuk menjaga kepuasan pelanggan yang masih aktif, meningkatkan retensi, dan merawat hubungan yang sudah terjalin."
   ]
  },
  {
   "cell_type": "markdown",
   "metadata": {},
   "source": [
    "# Data Understanding"
   ]
  },
  {
   "cell_type": "markdown",
   "metadata": {},
   "source": [
    "- Dependents (Tanggungan):Menunjukkan apakah pelanggan memiliki tanggungan (anggota keluarga atau orang lain yang bergantung pada layanan yang sama).\n",
    "\n",
    "- Tenure (Lama Berlangganan): Menunjukkan berapa lama pelanggan telah menjadi pelanggan perusahaan, umumnya diukur dalam bulan atau tahun.\n",
    "\n",
    "- OnlineSecurity (Keamanan Online):Menunjukkan apakah pelanggan menggunakan layanan keamanan online untuk melindungi aktivitas online mereka.\n",
    "\n",
    "- OnlineBackup (Pencadangan Online):Menunjukkan apakah pelanggan menggunakan layanan pencadangan online untuk melindungi data mereka.\n",
    "\n",
    "- InternetService (Layanan Internet): Menunjukkan jenis layanan internet yang digunakan oleh pelanggan, seperti DSL, kabel, atau serat optik.\n",
    "\n",
    "- DeviceProtection (Perlindungan Perangkat): Menunjukkan apakah pelanggan menggunakan layanan perlindungan perangkat untuk melindungi perangkat mereka.\n",
    "\n",
    "- TechSupport (Dukungan Teknis): Menunjukkan apakah pelanggan menggunakan layanan dukungan teknis untuk bantuan dan pemecahan masalah.\n",
    "\n",
    "- Contract (Kontrak): Menunjukkan jenis kontrak yang dimiliki pelanggan, seperti bulanan atau kontrak jangka panjang.\n",
    "\n",
    "- PaperlessBilling (Tagihan Tanpa Kertas): Menunjukkan apakah pelanggan menerima tagihan dalam bentuk elektronik tanpa kertas atau tidak.\n",
    "\n",
    "- MonthlyCharges (Biaya Bulanan): Menunjukkan jumlah biaya bulanan yang dikenakan kepada pelanggan.\n",
    "\n",
    "- Churn (Pergantian):Menunjukkan apakah pelanggan telah berhenti menggunakan layanan (churn) atau masih aktif."
   ]
  },
  {
   "cell_type": "code",
   "execution_count": 2,
   "metadata": {},
   "outputs": [],
   "source": [
    "# Import necessary libraries\n",
    "import pandas as pd\n",
    "import numpy as np\n",
    "import seaborn as sns\n",
    "import matplotlib.pyplot as plt\n",
    "\n",
    "# Import scikit-learn modules\n",
    "from sklearn.model_selection import train_test_split, cross_val_score, StratifiedKFold, GridSearchCV\n",
    "from sklearn.metrics import f1_score\n",
    "from sklearn.svm import SVC\n",
    "from sklearn.tree import DecisionTreeClassifier\n",
    "from sklearn.ensemble import RandomForestClassifier, AdaBoostClassifier\n",
    "from sklearn.preprocessing import OneHotEncoder, LabelEncoder\n",
    "from sklearn.impute import SimpleImputer\n",
    "from category_encoders import BinaryEncoder\n",
    "from sklearn.compose import ColumnTransformer\n",
    "\n",
    "\n",
    "# Import imbalanced-learn modules\n",
    "from imblearn.pipeline import Pipeline as ImbPipeline\n",
    "\n",
    "# Import other necessary libraries\n",
    "import warnings\n",
    "\n",
    "# Suppress warnings\n",
    "warnings.filterwarnings('ignore')\n"
   ]
  },
  {
   "cell_type": "markdown",
   "metadata": {},
   "source": [
    "## Raw Data Telco Customer Churn"
   ]
  },
  {
   "cell_type": "code",
   "execution_count": 3,
   "metadata": {},
   "outputs": [
    {
     "data": {
      "text/html": [
       "<div>\n",
       "<style scoped>\n",
       "    .dataframe tbody tr th:only-of-type {\n",
       "        vertical-align: middle;\n",
       "    }\n",
       "\n",
       "    .dataframe tbody tr th {\n",
       "        vertical-align: top;\n",
       "    }\n",
       "\n",
       "    .dataframe thead th {\n",
       "        text-align: right;\n",
       "    }\n",
       "</style>\n",
       "<table border=\"1\" class=\"dataframe\">\n",
       "  <thead>\n",
       "    <tr style=\"text-align: right;\">\n",
       "      <th></th>\n",
       "      <th>Dependents</th>\n",
       "      <th>tenure</th>\n",
       "      <th>OnlineSecurity</th>\n",
       "      <th>OnlineBackup</th>\n",
       "      <th>InternetService</th>\n",
       "      <th>DeviceProtection</th>\n",
       "      <th>TechSupport</th>\n",
       "      <th>Contract</th>\n",
       "      <th>PaperlessBilling</th>\n",
       "      <th>MonthlyCharges</th>\n",
       "      <th>Churn</th>\n",
       "    </tr>\n",
       "  </thead>\n",
       "  <tbody>\n",
       "    <tr>\n",
       "      <th>0</th>\n",
       "      <td>Yes</td>\n",
       "      <td>9</td>\n",
       "      <td>No</td>\n",
       "      <td>No</td>\n",
       "      <td>DSL</td>\n",
       "      <td>Yes</td>\n",
       "      <td>Yes</td>\n",
       "      <td>Month-to-month</td>\n",
       "      <td>Yes</td>\n",
       "      <td>72.90</td>\n",
       "      <td>Yes</td>\n",
       "    </tr>\n",
       "    <tr>\n",
       "      <th>1</th>\n",
       "      <td>No</td>\n",
       "      <td>14</td>\n",
       "      <td>No</td>\n",
       "      <td>Yes</td>\n",
       "      <td>Fiber optic</td>\n",
       "      <td>Yes</td>\n",
       "      <td>No</td>\n",
       "      <td>Month-to-month</td>\n",
       "      <td>Yes</td>\n",
       "      <td>82.65</td>\n",
       "      <td>No</td>\n",
       "    </tr>\n",
       "    <tr>\n",
       "      <th>2</th>\n",
       "      <td>No</td>\n",
       "      <td>64</td>\n",
       "      <td>Yes</td>\n",
       "      <td>No</td>\n",
       "      <td>DSL</td>\n",
       "      <td>Yes</td>\n",
       "      <td>Yes</td>\n",
       "      <td>Two year</td>\n",
       "      <td>No</td>\n",
       "      <td>47.85</td>\n",
       "      <td>Yes</td>\n",
       "    </tr>\n",
       "    <tr>\n",
       "      <th>3</th>\n",
       "      <td>No</td>\n",
       "      <td>72</td>\n",
       "      <td>Yes</td>\n",
       "      <td>Yes</td>\n",
       "      <td>DSL</td>\n",
       "      <td>Yes</td>\n",
       "      <td>Yes</td>\n",
       "      <td>Two year</td>\n",
       "      <td>No</td>\n",
       "      <td>69.65</td>\n",
       "      <td>No</td>\n",
       "    </tr>\n",
       "    <tr>\n",
       "      <th>4</th>\n",
       "      <td>No</td>\n",
       "      <td>3</td>\n",
       "      <td>No internet service</td>\n",
       "      <td>No internet service</td>\n",
       "      <td>No</td>\n",
       "      <td>No internet service</td>\n",
       "      <td>No internet service</td>\n",
       "      <td>Month-to-month</td>\n",
       "      <td>Yes</td>\n",
       "      <td>23.60</td>\n",
       "      <td>No</td>\n",
       "    </tr>\n",
       "  </tbody>\n",
       "</table>\n",
       "</div>"
      ],
      "text/plain": [
       "  Dependents  tenure       OnlineSecurity         OnlineBackup  \\\n",
       "0        Yes       9                   No                   No   \n",
       "1         No      14                   No                  Yes   \n",
       "2         No      64                  Yes                   No   \n",
       "3         No      72                  Yes                  Yes   \n",
       "4         No       3  No internet service  No internet service   \n",
       "\n",
       "  InternetService     DeviceProtection          TechSupport        Contract  \\\n",
       "0             DSL                  Yes                  Yes  Month-to-month   \n",
       "1     Fiber optic                  Yes                   No  Month-to-month   \n",
       "2             DSL                  Yes                  Yes        Two year   \n",
       "3             DSL                  Yes                  Yes        Two year   \n",
       "4              No  No internet service  No internet service  Month-to-month   \n",
       "\n",
       "  PaperlessBilling  MonthlyCharges Churn  \n",
       "0              Yes           72.90   Yes  \n",
       "1              Yes           82.65    No  \n",
       "2               No           47.85   Yes  \n",
       "3               No           69.65    No  \n",
       "4              Yes           23.60    No  "
      ]
     },
     "execution_count": 3,
     "metadata": {},
     "output_type": "execute_result"
    }
   ],
   "source": [
    "tcc = pd.read_csv('data_telco_customer_churn.csv')\n",
    "tcc.head()"
   ]
  },
  {
   "cell_type": "code",
   "execution_count": 4,
   "metadata": {},
   "outputs": [
    {
     "name": "stdout",
     "output_type": "stream",
     "text": [
      "Dataset Dimension: **4930** rows,  **11** columns\n"
     ]
    }
   ],
   "source": [
    "print(f\"Dataset Dimension: **{tcc.shape[0]}** rows,  **{tcc.shape[1]}** columns\")"
   ]
  },
  {
   "cell_type": "code",
   "execution_count": 5,
   "metadata": {},
   "outputs": [
    {
     "data": {
      "text/html": [
       "<div>\n",
       "<style scoped>\n",
       "    .dataframe tbody tr th:only-of-type {\n",
       "        vertical-align: middle;\n",
       "    }\n",
       "\n",
       "    .dataframe tbody tr th {\n",
       "        vertical-align: top;\n",
       "    }\n",
       "\n",
       "    .dataframe thead th {\n",
       "        text-align: right;\n",
       "    }\n",
       "</style>\n",
       "<table border=\"1\" class=\"dataframe\">\n",
       "  <thead>\n",
       "    <tr style=\"text-align: right;\">\n",
       "      <th></th>\n",
       "      <th>Dependents</th>\n",
       "      <th>tenure</th>\n",
       "      <th>OnlineSecurity</th>\n",
       "      <th>OnlineBackup</th>\n",
       "      <th>InternetService</th>\n",
       "      <th>DeviceProtection</th>\n",
       "      <th>TechSupport</th>\n",
       "      <th>Contract</th>\n",
       "      <th>PaperlessBilling</th>\n",
       "      <th>MonthlyCharges</th>\n",
       "      <th>Churn</th>\n",
       "    </tr>\n",
       "  </thead>\n",
       "  <tbody>\n",
       "    <tr>\n",
       "      <th>count</th>\n",
       "      <td>4930</td>\n",
       "      <td>4930.000000</td>\n",
       "      <td>4930</td>\n",
       "      <td>4930</td>\n",
       "      <td>4930</td>\n",
       "      <td>4930</td>\n",
       "      <td>4930</td>\n",
       "      <td>4930</td>\n",
       "      <td>4930</td>\n",
       "      <td>4930.000000</td>\n",
       "      <td>4930</td>\n",
       "    </tr>\n",
       "    <tr>\n",
       "      <th>unique</th>\n",
       "      <td>2</td>\n",
       "      <td>NaN</td>\n",
       "      <td>3</td>\n",
       "      <td>3</td>\n",
       "      <td>3</td>\n",
       "      <td>3</td>\n",
       "      <td>3</td>\n",
       "      <td>3</td>\n",
       "      <td>2</td>\n",
       "      <td>NaN</td>\n",
       "      <td>2</td>\n",
       "    </tr>\n",
       "    <tr>\n",
       "      <th>top</th>\n",
       "      <td>No</td>\n",
       "      <td>NaN</td>\n",
       "      <td>No</td>\n",
       "      <td>No</td>\n",
       "      <td>Fiber optic</td>\n",
       "      <td>No</td>\n",
       "      <td>No</td>\n",
       "      <td>Month-to-month</td>\n",
       "      <td>Yes</td>\n",
       "      <td>NaN</td>\n",
       "      <td>No</td>\n",
       "    </tr>\n",
       "    <tr>\n",
       "      <th>freq</th>\n",
       "      <td>3446</td>\n",
       "      <td>NaN</td>\n",
       "      <td>2445</td>\n",
       "      <td>2172</td>\n",
       "      <td>2172</td>\n",
       "      <td>2186</td>\n",
       "      <td>2467</td>\n",
       "      <td>2721</td>\n",
       "      <td>2957</td>\n",
       "      <td>NaN</td>\n",
       "      <td>3614</td>\n",
       "    </tr>\n",
       "    <tr>\n",
       "      <th>mean</th>\n",
       "      <td>NaN</td>\n",
       "      <td>32.401217</td>\n",
       "      <td>NaN</td>\n",
       "      <td>NaN</td>\n",
       "      <td>NaN</td>\n",
       "      <td>NaN</td>\n",
       "      <td>NaN</td>\n",
       "      <td>NaN</td>\n",
       "      <td>NaN</td>\n",
       "      <td>64.883032</td>\n",
       "      <td>NaN</td>\n",
       "    </tr>\n",
       "    <tr>\n",
       "      <th>std</th>\n",
       "      <td>NaN</td>\n",
       "      <td>24.501193</td>\n",
       "      <td>NaN</td>\n",
       "      <td>NaN</td>\n",
       "      <td>NaN</td>\n",
       "      <td>NaN</td>\n",
       "      <td>NaN</td>\n",
       "      <td>NaN</td>\n",
       "      <td>NaN</td>\n",
       "      <td>29.923960</td>\n",
       "      <td>NaN</td>\n",
       "    </tr>\n",
       "    <tr>\n",
       "      <th>min</th>\n",
       "      <td>NaN</td>\n",
       "      <td>0.000000</td>\n",
       "      <td>NaN</td>\n",
       "      <td>NaN</td>\n",
       "      <td>NaN</td>\n",
       "      <td>NaN</td>\n",
       "      <td>NaN</td>\n",
       "      <td>NaN</td>\n",
       "      <td>NaN</td>\n",
       "      <td>18.800000</td>\n",
       "      <td>NaN</td>\n",
       "    </tr>\n",
       "    <tr>\n",
       "      <th>25%</th>\n",
       "      <td>NaN</td>\n",
       "      <td>9.000000</td>\n",
       "      <td>NaN</td>\n",
       "      <td>NaN</td>\n",
       "      <td>NaN</td>\n",
       "      <td>NaN</td>\n",
       "      <td>NaN</td>\n",
       "      <td>NaN</td>\n",
       "      <td>NaN</td>\n",
       "      <td>37.050000</td>\n",
       "      <td>NaN</td>\n",
       "    </tr>\n",
       "    <tr>\n",
       "      <th>50%</th>\n",
       "      <td>NaN</td>\n",
       "      <td>29.000000</td>\n",
       "      <td>NaN</td>\n",
       "      <td>NaN</td>\n",
       "      <td>NaN</td>\n",
       "      <td>NaN</td>\n",
       "      <td>NaN</td>\n",
       "      <td>NaN</td>\n",
       "      <td>NaN</td>\n",
       "      <td>70.350000</td>\n",
       "      <td>NaN</td>\n",
       "    </tr>\n",
       "    <tr>\n",
       "      <th>75%</th>\n",
       "      <td>NaN</td>\n",
       "      <td>55.000000</td>\n",
       "      <td>NaN</td>\n",
       "      <td>NaN</td>\n",
       "      <td>NaN</td>\n",
       "      <td>NaN</td>\n",
       "      <td>NaN</td>\n",
       "      <td>NaN</td>\n",
       "      <td>NaN</td>\n",
       "      <td>89.850000</td>\n",
       "      <td>NaN</td>\n",
       "    </tr>\n",
       "    <tr>\n",
       "      <th>max</th>\n",
       "      <td>NaN</td>\n",
       "      <td>72.000000</td>\n",
       "      <td>NaN</td>\n",
       "      <td>NaN</td>\n",
       "      <td>NaN</td>\n",
       "      <td>NaN</td>\n",
       "      <td>NaN</td>\n",
       "      <td>NaN</td>\n",
       "      <td>NaN</td>\n",
       "      <td>118.650000</td>\n",
       "      <td>NaN</td>\n",
       "    </tr>\n",
       "  </tbody>\n",
       "</table>\n",
       "</div>"
      ],
      "text/plain": [
       "       Dependents       tenure OnlineSecurity OnlineBackup InternetService  \\\n",
       "count        4930  4930.000000           4930         4930            4930   \n",
       "unique          2          NaN              3            3               3   \n",
       "top            No          NaN             No           No     Fiber optic   \n",
       "freq         3446          NaN           2445         2172            2172   \n",
       "mean          NaN    32.401217            NaN          NaN             NaN   \n",
       "std           NaN    24.501193            NaN          NaN             NaN   \n",
       "min           NaN     0.000000            NaN          NaN             NaN   \n",
       "25%           NaN     9.000000            NaN          NaN             NaN   \n",
       "50%           NaN    29.000000            NaN          NaN             NaN   \n",
       "75%           NaN    55.000000            NaN          NaN             NaN   \n",
       "max           NaN    72.000000            NaN          NaN             NaN   \n",
       "\n",
       "       DeviceProtection TechSupport        Contract PaperlessBilling  \\\n",
       "count              4930        4930            4930             4930   \n",
       "unique                3           3               3                2   \n",
       "top                  No          No  Month-to-month              Yes   \n",
       "freq               2186        2467            2721             2957   \n",
       "mean                NaN         NaN             NaN              NaN   \n",
       "std                 NaN         NaN             NaN              NaN   \n",
       "min                 NaN         NaN             NaN              NaN   \n",
       "25%                 NaN         NaN             NaN              NaN   \n",
       "50%                 NaN         NaN             NaN              NaN   \n",
       "75%                 NaN         NaN             NaN              NaN   \n",
       "max                 NaN         NaN             NaN              NaN   \n",
       "\n",
       "        MonthlyCharges Churn  \n",
       "count      4930.000000  4930  \n",
       "unique             NaN     2  \n",
       "top                NaN    No  \n",
       "freq               NaN  3614  \n",
       "mean         64.883032   NaN  \n",
       "std          29.923960   NaN  \n",
       "min          18.800000   NaN  \n",
       "25%          37.050000   NaN  \n",
       "50%          70.350000   NaN  \n",
       "75%          89.850000   NaN  \n",
       "max         118.650000   NaN  "
      ]
     },
     "execution_count": 5,
     "metadata": {},
     "output_type": "execute_result"
    }
   ],
   "source": [
    "tcc.describe(include=\"all\")"
   ]
  },
  {
   "cell_type": "code",
   "execution_count": 6,
   "metadata": {},
   "outputs": [
    {
     "data": {
      "text/plain": [
       "Index(['Dependents', 'tenure', 'OnlineSecurity', 'OnlineBackup',\n",
       "       'InternetService', 'DeviceProtection', 'TechSupport', 'Contract',\n",
       "       'PaperlessBilling', 'MonthlyCharges', 'Churn'],\n",
       "      dtype='object')"
      ]
     },
     "execution_count": 6,
     "metadata": {},
     "output_type": "execute_result"
    }
   ],
   "source": [
    "tcc.columns"
   ]
  },
  {
   "cell_type": "code",
   "execution_count": 7,
   "metadata": {},
   "outputs": [
    {
     "data": {
      "text/plain": [
       "77"
      ]
     },
     "metadata": {},
     "output_type": "display_data"
    }
   ],
   "source": [
    "display(tcc.duplicated().sum())"
   ]
  },
  {
   "cell_type": "code",
   "execution_count": 8,
   "metadata": {},
   "outputs": [
    {
     "data": {
      "text/plain": [
       "Dependents          0\n",
       "tenure              0\n",
       "OnlineSecurity      0\n",
       "OnlineBackup        0\n",
       "InternetService     0\n",
       "DeviceProtection    0\n",
       "TechSupport         0\n",
       "Contract            0\n",
       "PaperlessBilling    0\n",
       "MonthlyCharges      0\n",
       "Churn               0\n",
       "dtype: int64"
      ]
     },
     "execution_count": 8,
     "metadata": {},
     "output_type": "execute_result"
    }
   ],
   "source": [
    "tcc.isna().sum()"
   ]
  },
  {
   "cell_type": "code",
   "execution_count": 9,
   "metadata": {},
   "outputs": [
    {
     "data": {
      "text/plain": [
       "<Figure size 1000x600 with 0 Axes>"
      ]
     },
     "metadata": {},
     "output_type": "display_data"
    },
    {
     "data": {
      "image/png": "[encoded data removed]",
      "text/plain": [
       "<Figure size 709.875x500 with 1 Axes>"
      ]
     },
     "metadata": {},
     "output_type": "display_data"
    }
   ],
   "source": [
    "plt.figure(figsize=(10,6))\n",
    "\n",
    "dms = sns.displot(\n",
    "    data=tcc.isna().melt(value_name=\"missing\"),\n",
    "    y=\"variable\",\n",
    "    hue=\"missing\",\n",
    "    multiple=\"fill\",\n",
    "    aspect=1.25,\n",
    "    palette=[\"green\",\"red\"]\n",
    ")\n",
    "\n",
    "dms.set_yticklabels(size = 6)\n",
    "\n",
    "plt.show()"
   ]
  },
  {
   "cell_type": "markdown",
   "metadata": {},
   "source": [
    "Berdasarkan hasil visualisasi di atas, dapat dengan yakin disimpulkan bahwa dataset yang akan kita analisis tidak mengandung nilai yang hilang (missing value). Oleh karena itu, tidak diperlukan tindakan khusus terkait penanganan masalah nilai yang hilang. Analisis lebih lanjut dapat dilakukan tanpa perlu memperhatikan atau mengisi nilai yang hilang pada dataset, mempermudah proses pengolahan data dan interpretasi hasil."
   ]
  },
  {
   "cell_type": "markdown",
   "metadata": {},
   "source": [
    "**Data Outliers**"
   ]
  },
  {
   "cell_type": "code",
   "execution_count": 10,
   "metadata": {},
   "outputs": [
    {
     "data": {
      "image/png": "[encoded data removed]",
      "text/plain": [
       "<Figure size 1500x700 with 2 Axes>"
      ]
     },
     "metadata": {},
     "output_type": "display_data"
    }
   ],
   "source": [
    "featuresNum = ['tenure', 'MonthlyCharges']\n",
    "plt.figure(figsize=(15, 7))\n",
    "for i in range(0, len(featuresNum)):\n",
    "    plt.subplot(1, len(featuresNum), i+1)\n",
    "    sns.boxplot(y=tcc[featuresNum[i]], color=\"#3498db\")\n",
    "\n",
    "plt.show()"
   ]
  },
  {
   "cell_type": "markdown",
   "metadata": {},
   "source": [
    "Dari Barplot diatas terlihat tidak ada outliers pada dataset Telco Customer Churn yang kita olah "
   ]
  },
  {
   "cell_type": "markdown",
   "metadata": {},
   "source": [
    "### Categorical Features Distribution"
   ]
  },
  {
   "cell_type": "code",
   "execution_count": 11,
   "metadata": {},
   "outputs": [
    {
     "data": {
      "text/html": [
       "<div>\n",
       "<style scoped>\n",
       "    .dataframe tbody tr th:only-of-type {\n",
       "        vertical-align: middle;\n",
       "    }\n",
       "\n",
       "    .dataframe tbody tr th {\n",
       "        vertical-align: top;\n",
       "    }\n",
       "\n",
       "    .dataframe thead th {\n",
       "        text-align: right;\n",
       "    }\n",
       "</style>\n",
       "<table border=\"1\" class=\"dataframe\">\n",
       "  <thead>\n",
       "    <tr style=\"text-align: right;\">\n",
       "      <th></th>\n",
       "      <th>count</th>\n",
       "      <th>unique</th>\n",
       "      <th>top</th>\n",
       "      <th>freq</th>\n",
       "    </tr>\n",
       "  </thead>\n",
       "  <tbody>\n",
       "    <tr>\n",
       "      <th>Dependents</th>\n",
       "      <td>4930</td>\n",
       "      <td>2</td>\n",
       "      <td>No</td>\n",
       "      <td>3446</td>\n",
       "    </tr>\n",
       "    <tr>\n",
       "      <th>OnlineSecurity</th>\n",
       "      <td>4930</td>\n",
       "      <td>3</td>\n",
       "      <td>No</td>\n",
       "      <td>2445</td>\n",
       "    </tr>\n",
       "    <tr>\n",
       "      <th>OnlineBackup</th>\n",
       "      <td>4930</td>\n",
       "      <td>3</td>\n",
       "      <td>No</td>\n",
       "      <td>2172</td>\n",
       "    </tr>\n",
       "    <tr>\n",
       "      <th>InternetService</th>\n",
       "      <td>4930</td>\n",
       "      <td>3</td>\n",
       "      <td>Fiber optic</td>\n",
       "      <td>2172</td>\n",
       "    </tr>\n",
       "    <tr>\n",
       "      <th>DeviceProtection</th>\n",
       "      <td>4930</td>\n",
       "      <td>3</td>\n",
       "      <td>No</td>\n",
       "      <td>2186</td>\n",
       "    </tr>\n",
       "    <tr>\n",
       "      <th>TechSupport</th>\n",
       "      <td>4930</td>\n",
       "      <td>3</td>\n",
       "      <td>No</td>\n",
       "      <td>2467</td>\n",
       "    </tr>\n",
       "    <tr>\n",
       "      <th>Contract</th>\n",
       "      <td>4930</td>\n",
       "      <td>3</td>\n",
       "      <td>Month-to-month</td>\n",
       "      <td>2721</td>\n",
       "    </tr>\n",
       "    <tr>\n",
       "      <th>PaperlessBilling</th>\n",
       "      <td>4930</td>\n",
       "      <td>2</td>\n",
       "      <td>Yes</td>\n",
       "      <td>2957</td>\n",
       "    </tr>\n",
       "    <tr>\n",
       "      <th>Churn</th>\n",
       "      <td>4930</td>\n",
       "      <td>2</td>\n",
       "      <td>No</td>\n",
       "      <td>3614</td>\n",
       "    </tr>\n",
       "  </tbody>\n",
       "</table>\n",
       "</div>"
      ],
      "text/plain": [
       "                 count unique             top  freq\n",
       "Dependents        4930      2              No  3446\n",
       "OnlineSecurity    4930      3              No  2445\n",
       "OnlineBackup      4930      3              No  2172\n",
       "InternetService   4930      3     Fiber optic  2172\n",
       "DeviceProtection  4930      3              No  2186\n",
       "TechSupport       4930      3              No  2467\n",
       "Contract          4930      3  Month-to-month  2721\n",
       "PaperlessBilling  4930      2             Yes  2957\n",
       "Churn             4930      2              No  3614"
      ]
     },
     "execution_count": 11,
     "metadata": {},
     "output_type": "execute_result"
    }
   ],
   "source": [
    "tcc.describe(include=['object']).T"
   ]
  },
  {
   "cell_type": "markdown",
   "metadata": {},
   "source": [
    "**Insight :**\n",
    "\n",
    "- Terdapat 9 kolom dengan tipe data categorical, di mana 8 di antaranya digunakan sebagai fitur dan 1 sebagai target, yaitu Churn.\n",
    "- Frekuensi kategori No Churn lebih dominan dibandingkan dengan kategori Churn, dengan jumlah 3614 dari total 4930 pengguna.\n",
    "- Terlihat tren penggunaan PaperlessBilling lebih tinggi, mencerminkan pergeseran ke preferensi pembayaran digital, meskipun sejumlah pelanggan (4930 - 2957) masih memilih metode pembayaran kertas.\n",
    "- Mode kontrak terbanyak yang dipilih oleh pelanggan adalah Month-to-month.\n",
    "- Frekuensi tertinggi pada kategori InternetService adalah layanan Fiber Optic.\n",
    "- Tampaknya pelanggan cenderung tidak menggunakan fitur tambahan seperti OnlineSecurity, OnlineBackup, DeviceProtection, dan TechSupport pada layanan mereka.\n",
    "- Mayoritas pelanggan tidak memiliki Dependents atau tanggungan."
   ]
  },
  {
   "cell_type": "markdown",
   "metadata": {},
   "source": [
    "## Pengecekan Imbalance"
   ]
  },
  {
   "cell_type": "code",
   "execution_count": 12,
   "metadata": {},
   "outputs": [
    {
     "data": {
      "text/html": [
       "<div>\n",
       "<style scoped>\n",
       "    .dataframe tbody tr th:only-of-type {\n",
       "        vertical-align: middle;\n",
       "    }\n",
       "\n",
       "    .dataframe tbody tr th {\n",
       "        vertical-align: top;\n",
       "    }\n",
       "\n",
       "    .dataframe thead th {\n",
       "        text-align: right;\n",
       "    }\n",
       "</style>\n",
       "<table border=\"1\" class=\"dataframe\">\n",
       "  <thead>\n",
       "    <tr style=\"text-align: right;\">\n",
       "      <th>col_0</th>\n",
       "      <th>Churn</th>\n",
       "      <th>count</th>\n",
       "    </tr>\n",
       "  </thead>\n",
       "  <tbody>\n",
       "    <tr>\n",
       "      <th>1</th>\n",
       "      <td>Yes</td>\n",
       "      <td>1316</td>\n",
       "    </tr>\n",
       "    <tr>\n",
       "      <th>0</th>\n",
       "      <td>No</td>\n",
       "      <td>3614</td>\n",
       "    </tr>\n",
       "  </tbody>\n",
       "</table>\n",
       "</div>"
      ],
      "text/plain": [
       "col_0 Churn  count\n",
       "1       Yes   1316\n",
       "0        No   3614"
      ]
     },
     "execution_count": 12,
     "metadata": {},
     "output_type": "execute_result"
    }
   ],
   "source": [
    "tcc1 = pd.crosstab(index=tcc['Churn'], columns='count').reset_index().sort_values(by='count')\n",
    "tcc1"
   ]
  },
  {
   "cell_type": "code",
   "execution_count": 13,
   "metadata": {},
   "outputs": [
    {
     "data": {
      "image/png": "[encoded data removed]",
      "text/plain": [
       "<Figure size 800x600 with 1 Axes>"
      ]
     },
     "metadata": {},
     "output_type": "display_data"
    }
   ],
   "source": [
    "plt.figure(figsize=(8,6))\n",
    "plt.pie(tcc1['count'],\n",
    "        labels=tcc1['Churn'],\n",
    "        autopct='%.2f%%',\n",
    "        counterclock=False,\n",
    "        startangle=90,\n",
    "        colors=['#3498db', '#e74c3c'])\n",
    "fig = plt.gcf()\n",
    "center_circle = plt.Circle((0,0), 0.80, fc='white')\n",
    "fig.gca().add_artist(center_circle)\n",
    "plt.axis('equal')\n",
    "plt.title('Komparasi Antara Churn & No Churn Customer');"
   ]
  },
  {
   "cell_type": "markdown",
   "metadata": {},
   "source": [
    "for column in tcc.select_dtypes(include='object').columns:  # Memilih kolom dengan tipe data 'object'\n",
    "    plt.figure(figsize=(8, 5))\n",
    "    sns.countplot(x=column, hue='Churn', data=tcc, palette='pastel')\n",
    "    plt.title(f'Barplot {column} dengan Hue Churn')\n",
    "    plt.show()"
   ]
  },
  {
   "cell_type": "markdown",
   "metadata": {},
   "source": [
    "# Data Spliting "
   ]
  },
  {
   "cell_type": "code",
   "execution_count": 14,
   "metadata": {},
   "outputs": [
    {
     "data": {
      "text/plain": [
       "Index(['Dependents', 'tenure', 'OnlineSecurity', 'OnlineBackup',\n",
       "       'InternetService', 'DeviceProtection', 'TechSupport', 'Contract',\n",
       "       'PaperlessBilling', 'MonthlyCharges', 'Churn'],\n",
       "      dtype='object')"
      ]
     },
     "execution_count": 14,
     "metadata": {},
     "output_type": "execute_result"
    }
   ],
   "source": [
    "tcc.columns"
   ]
  },
  {
   "cell_type": "code",
   "execution_count": 15,
   "metadata": {},
   "outputs": [],
   "source": [
    "label_encoder = LabelEncoder()\n",
    "tcc['Churn'] = label_encoder.fit_transform(tcc['Churn'])"
   ]
  },
  {
   "cell_type": "code",
   "execution_count": 16,
   "metadata": {},
   "outputs": [],
   "source": [
    "\n",
    "x = tcc[['tenure', 'OnlineSecurity', 'OnlineBackup',\n",
    "       'InternetService', 'DeviceProtection', 'Contract',\n",
    "       'PaperlessBilling', 'MonthlyCharges']]\n",
    "y = tcc['Churn']\n",
    "\n",
    "Xtrain, Xtest, Ytrain, Ytest = train_test_split(\n",
    "    x,\n",
    "    y,\n",
    "    stratify= y,\n",
    "    random_state=2024,\n",
    "    test_size=0.2\n",
    ")"
   ]
  },
  {
   "cell_type": "markdown",
   "metadata": {},
   "source": [
    "# Preprocessing"
   ]
  },
  {
   "cell_type": "markdown",
   "metadata": {},
   "source": [
    "**resampling**"
   ]
  },
  {
   "cell_type": "code",
   "execution_count": 17,
   "metadata": {},
   "outputs": [],
   "source": [
    "from imblearn.over_sampling import SMOTE,ADASYN\n",
    "from imblearn.under_sampling import NearMiss,TomekLinks,ClusterCentroids\n",
    "from imblearn.combine import SMOTEENN,SMOTETomek\n",
    "\n",
    "np.random.seed(42)\n",
    "\n",
    "resampler = TomekLinks() \n"
   ]
  },
  {
   "cell_type": "markdown",
   "metadata": {},
   "source": [
    "**encoding**"
   ]
  },
  {
   "cell_type": "code",
   "execution_count": 18,
   "metadata": {},
   "outputs": [],
   "source": [
    "one_hot = ['PaperlessBilling']\n",
    "binary = ['OnlineSecurity','OnlineBackup','InternetService','DeviceProtection','Contract']\n",
    "# Definisikan transformer untuk kolom kategorikal\n",
    "categorical_transformer = ColumnTransformer([\n",
    "    ('onehot', OneHotEncoder(), one_hot),\n",
    "    ('binary', BinaryEncoder(), binary),\n",
    "], remainder='passthrough')"
   ]
  },
  {
   "cell_type": "markdown",
   "metadata": {},
   "source": [
    "# Model Benchmarking"
   ]
  },
  {
   "cell_type": "code",
   "execution_count": 19,
   "metadata": {},
   "outputs": [],
   "source": [
    "# Random Forest pipeline with resampling\n",
    "random_forest_pipeline_resample = ImbPipeline(steps=[\n",
    "    ('preprocessor', categorical_transformer),\n",
    "    ('resampler', resampler),\n",
    "    ('classifier', RandomForestClassifier(random_state=42))\n",
    "])\n",
    "\n",
    "# Decision Tree pipeline with resampling\n",
    "decision_tree_pipeline_resample = ImbPipeline(steps=[\n",
    "    ('preprocessor', categorical_transformer),\n",
    "    ('resampler', resampler),\n",
    "    ('classifier', DecisionTreeClassifier(random_state=42))\n",
    "])\n",
    "\n",
    "# AdaBoost pipeline with resampling\n",
    "adaboost_pipeline_resample = ImbPipeline(steps=[\n",
    "    ('preprocessor', categorical_transformer),\n",
    "    ('resampler', resampler),\n",
    "    ('classifier', AdaBoostClassifier(random_state=42))\n",
    "])\n",
    "\n",
    "# SVM pipeline with resampling\n",
    "svm_pipeline_resample = ImbPipeline(steps=[\n",
    "    ('preprocessor', categorical_transformer),\n",
    "    ('resampler', resampler),\n",
    "    ('classifier', SVC())\n",
    "])\n",
    "\n",
    "# Combine models in one DataFrame\n",
    "model_names_resample = ['Random Forest (Resample)', 'Decision Tree (Resample)', 'AdaBoost (Resample)', 'SVM (Resample)']\n",
    "models_resample = [random_forest_pipeline_resample, decision_tree_pipeline_resample, adaboost_pipeline_resample, svm_pipeline_resample]\n",
    "\n",
    "results_resample = []\n",
    "\n",
    "# Perform cross-validation for each model\n",
    "for model_name, model in zip(model_names_resample, models_resample):\n",
    "    # Compute weighted F1 score using cross_val_score\n",
    "    cv_scores = cross_val_score(model, Xtrain, Ytrain, cv=StratifiedKFold(n_splits=5, shuffle=True, random_state=42), scoring='f1_weighted')\n",
    "    \n",
    "    # Append mean and standard deviation of the scores to results_resample list\n",
    "    results_resample.append({\n",
    "        'Model': model_name,\n",
    "        'Mean_Weighted_F1_Score': cv_scores.mean(),\n",
    "        'Std_Dev': cv_scores.std()\n",
    "    })\n",
    "\n",
    "# Results in DataFrame\n",
    "results_df_resample = pd.DataFrame(results_resample)"
   ]
  },
  {
   "cell_type": "code",
   "execution_count": 20,
   "metadata": {},
   "outputs": [
    {
     "data": {
      "text/html": [
       "<div>\n",
       "<style scoped>\n",
       "    .dataframe tbody tr th:only-of-type {\n",
       "        vertical-align: middle;\n",
       "    }\n",
       "\n",
       "    .dataframe tbody tr th {\n",
       "        vertical-align: top;\n",
       "    }\n",
       "\n",
       "    .dataframe thead th {\n",
       "        text-align: right;\n",
       "    }\n",
       "</style>\n",
       "<table border=\"1\" class=\"dataframe\">\n",
       "  <thead>\n",
       "    <tr style=\"text-align: right;\">\n",
       "      <th></th>\n",
       "      <th>Model</th>\n",
       "      <th>Mean_Weighted_F1_Score</th>\n",
       "      <th>Std_Dev</th>\n",
       "    </tr>\n",
       "  </thead>\n",
       "  <tbody>\n",
       "    <tr>\n",
       "      <th>0</th>\n",
       "      <td>Random Forest (Resample)</td>\n",
       "      <td>0.784965</td>\n",
       "      <td>0.009468</td>\n",
       "    </tr>\n",
       "    <tr>\n",
       "      <th>1</th>\n",
       "      <td>Decision Tree (Resample)</td>\n",
       "      <td>0.738186</td>\n",
       "      <td>0.009458</td>\n",
       "    </tr>\n",
       "    <tr>\n",
       "      <th>2</th>\n",
       "      <td>AdaBoost (Resample)</td>\n",
       "      <td>0.788942</td>\n",
       "      <td>0.010805</td>\n",
       "    </tr>\n",
       "    <tr>\n",
       "      <th>3</th>\n",
       "      <td>SVM (Resample)</td>\n",
       "      <td>0.774810</td>\n",
       "      <td>0.014167</td>\n",
       "    </tr>\n",
       "  </tbody>\n",
       "</table>\n",
       "</div>"
      ],
      "text/plain": [
       "                      Model  Mean_Weighted_F1_Score   Std_Dev\n",
       "0  Random Forest (Resample)                0.784965  0.009468\n",
       "1  Decision Tree (Resample)                0.738186  0.009458\n",
       "2       AdaBoost (Resample)                0.788942  0.010805\n",
       "3            SVM (Resample)                0.774810  0.014167"
      ]
     },
     "execution_count": 20,
     "metadata": {},
     "output_type": "execute_result"
    }
   ],
   "source": [
    "results_df_resample"
   ]
  },
  {
   "cell_type": "markdown",
   "metadata": {},
   "source": [
    "Dari hasil ini, terlihat bahwa model AdaBoost (Resample) mencapai Mean Weighted F1 Score tertinggi, yaitu 0.788942, dengan deviasi standar sebesar 0.010805. Ini menunjukkan bahwa model ini memiliki kinerja yang stabil dan konsisten. Sementara itu, model Decision Tree (Resample) memiliki Mean Weighted F1 Score yang lebih rendah dan deviasi standar yang serupa, menunjukkan kinerja yang kurang stabil dibandingkan dengan model lainnya."
   ]
  },
  {
   "cell_type": "markdown",
   "metadata": {},
   "source": [
    "# Hyperparameter Tunning"
   ]
  },
  {
   "cell_type": "code",
   "execution_count": 21,
   "metadata": {},
   "outputs": [
    {
     "name": "stdout",
     "output_type": "stream",
     "text": [
      "Best Hyperparameters for RandomForestClassifier: {'classifier__bootstrap': True, 'classifier__max_depth': 10, 'classifier__min_samples_leaf': 4, 'classifier__min_samples_split': 10, 'classifier__n_estimators': 50}\n",
      "Best Hyperparameters for AdaBoostClassifier: {'classifier__learning_rate': 0.1, 'classifier__n_estimators': 200}\n"
     ]
    }
   ],
   "source": [
    "rf_param_grid = {\n",
    "    'classifier__n_estimators': [50, 100, 200],\n",
    "    'classifier__max_depth': [None, 10, 20],\n",
    "    'classifier__min_samples_split': [2, 5, 10],\n",
    "    'classifier__min_samples_leaf': [1, 2, 4],\n",
    "    'classifier__bootstrap': [True, False]\n",
    "}\n",
    "\n",
    "# Hyperparameter grid for Adaboost\n",
    "adaboost_param_grid = {\n",
    "    'classifier__n_estimators': [50, 100, 200],\n",
    "    'classifier__learning_rate': [0.01, 0.1, 1.0]\n",
    "}\n",
    "\n",
    "# Define the pipelines for Random Forest and Adaboost\n",
    "random_forest_pipeline = ImbPipeline(steps=[\n",
    "    ('preprocessor', categorical_transformer),\n",
    "    ('resampler', resampler),\n",
    "    ('classifier', RandomForestClassifier(random_state=42))\n",
    "])\n",
    "\n",
    "adaboost_pipeline = ImbPipeline(steps=[\n",
    "    ('preprocessor', categorical_transformer),\n",
    "    ('resampler', resampler),\n",
    "    ('classifier', AdaBoostClassifier(random_state=42))\n",
    "])\n",
    "\n",
    "# Combine the parameter grids for Random Forest and Adaboost\n",
    "param_grids = [\n",
    "    (random_forest_pipeline, rf_param_grid),\n",
    "    (adaboost_pipeline, adaboost_param_grid)\n",
    "]\n",
    "\n",
    "# Perform GridSearchCV for each model\n",
    "best_params = {}\n",
    "for pipeline, param_grid in param_grids:\n",
    "    grid_search = GridSearchCV(pipeline, param_grid, cv=3, scoring='f1_weighted', n_jobs=-1)\n",
    "    grid_search.fit(Xtrain, Ytrain)\n",
    "    best_params[type(pipeline.named_steps['classifier']).__name__] = grid_search.best_params_\n",
    "    print(f\"Best Hyperparameters for {type(pipeline.named_steps['classifier']).__name__}: {grid_search.best_params_}\")\n",
    "\n",
    "# Access the best hyperparameters for each model\n",
    "best_rf_params = best_params['RandomForestClassifier']\n",
    "best_adaboost_params = best_params['AdaBoostClassifier']"
   ]
  },
  {
   "cell_type": "markdown",
   "metadata": {},
   "source": [
    "RandomForestClassifier optimal dengan hyperparameter sebagai berikut: menggunakan bootstrap, membatasi kedalaman pohon (max_depth) sebesar 10, dengan nilai minimum sampel daun (min_samples_leaf) dan pemisahan sampel (min_samples_split) masing-masing sebesar 4 dan 10. Jumlah estimator (n_estimators) yang digunakan adalah 50.\n",
    "\n",
    "Sementara itu, AdaBoostClassifier mencapai hasil terbaik dengan learning rate sebesar 0.1 dan 200 estimator. Penyetelan hyperparameter ini bertujuan untuk mencapai keseimbangan antara akurasi dan mencegah overfitting atau underfitting. Dengan konfigurasi ini, keduanya diharapkan memberikan prediksi yang lebih akurat dan andal dalam aplikasi praktis."
   ]
  },
  {
   "cell_type": "markdown",
   "metadata": {},
   "source": [
    "# Best Model based on Xtest"
   ]
  },
  {
   "cell_type": "code",
   "execution_count": 22,
   "metadata": {},
   "outputs": [
    {
     "name": "stdout",
     "output_type": "stream",
     "text": [
      "Weighted F1 Score for RandomForestClassifier: 0.7891507807102264\n",
      "Weighted F1 Score for AdaBoostClassifier: 0.7921527813398151\n"
     ]
    }
   ],
   "source": [
    "# Define the RandomForestClassifier and AdaBoostClassifier with the best hyperparameters\n",
    "\n",
    "best_rf_params = {\n",
    "    'n_estimators': 50,\n",
    "    'max_depth': 10,\n",
    "    'min_samples_leaf': 4,\n",
    "    'min_samples_split': 10,\n",
    "    'bootstrap': True\n",
    "}\n",
    "\n",
    "best_adaboost_params = {\n",
    "    'n_estimators': 200,\n",
    "    'learning_rate': 0.1\n",
    "}\n",
    "\n",
    "# Define the RandomForestClassifier and AdaBoostClassifier with the best hyperparameters\n",
    "best_rf_model = ImbPipeline(steps=[\n",
    "    ('preprocessor', categorical_transformer),\n",
    "    ('resampler', resampler),\n",
    "    ('classifier', RandomForestClassifier(**best_rf_params, random_state=42))\n",
    "])\n",
    "\n",
    "best_adaboost_model = ImbPipeline(steps=[\n",
    "    ('preprocessor', categorical_transformer),\n",
    "    ('resampler', resampler),\n",
    "    ('classifier', AdaBoostClassifier(**best_adaboost_params, random_state=42))\n",
    "])\n",
    "\n",
    "\n",
    "# Fit the models on the training data\n",
    "best_rf_model.fit(Xtrain, Ytrain)\n",
    "best_adaboost_model.fit(Xtrain, Ytrain)\n",
    "\n",
    "# Make predictions on the test data\n",
    "rf_predictions = best_rf_model.predict(Xtest)\n",
    "adaboost_predictions = best_adaboost_model.predict(Xtest)\n",
    "\n",
    "# Calculate the weighted F1 score for the RandomForestClassifier and AdaBoostClassifier\n",
    "weighted_f1_rf = f1_score(Ytest, rf_predictions, average='weighted')\n",
    "weighted_f1_adaboost = f1_score(Ytest, adaboost_predictions, average='weighted')\n",
    "\n",
    "# Display the weighted F1 scores\n",
    "print(f\"Weighted F1 Score for RandomForestClassifier: {weighted_f1_rf}\")\n",
    "print(f\"Weighted F1 Score for AdaBoostClassifier: {weighted_f1_adaboost}\")"
   ]
  },
  {
   "cell_type": "markdown",
   "metadata": {},
   "source": [
    "## Conclusion & Recommendation\n",
    "### Conclusion"
   ]
  },
  {
   "cell_type": "code",
   "execution_count": 23,
   "metadata": {},
   "outputs": [
    {
     "name": "stdout",
     "output_type": "stream",
     "text": [
      "Classification Report Tuned AdaBoostClassifier : \n",
      "               precision    recall  f1-score   support\n",
      "\n",
      "           0       0.85      0.87      0.86       723\n",
      "           1       0.62      0.59      0.60       263\n",
      "\n",
      "    accuracy                           0.79       986\n",
      "   macro avg       0.74      0.73      0.73       986\n",
      "weighted avg       0.79      0.79      0.79       986\n",
      "\n"
     ]
    }
   ],
   "source": [
    "from sklearn.metrics import classification_report, confusion_matrix\n",
    "\n",
    "final_report = classification_report(Ytest, adaboost_predictions)\n",
    "print('Classification Report Tuned AdaBoostClassifier : \\n', final_report)"
   ]
  },
  {
   "cell_type": "code",
   "execution_count": 24,
   "metadata": {},
   "outputs": [
    {
     "name": "stdout",
     "output_type": "stream",
     "text": [
      "Classification Report Tuned RandomForestClassifier : \n",
      "               precision    recall  f1-score   support\n",
      "\n",
      "           0       0.85      0.86      0.86       723\n",
      "           1       0.61      0.59      0.60       263\n",
      "\n",
      "    accuracy                           0.79       986\n",
      "   macro avg       0.73      0.73      0.73       986\n",
      "weighted avg       0.79      0.79      0.79       986\n",
      "\n"
     ]
    }
   ],
   "source": [
    "final_report = classification_report(Ytest, rf_predictions)\n",
    "print('Classification Report Tuned RandomForestClassifier : \\n', final_report)"
   ]
  },
  {
   "cell_type": "code",
   "execution_count": 25,
   "metadata": {},
   "outputs": [
    {
     "data": {
      "text/plain": [
       "<Axes: >"
      ]
     },
     "execution_count": 25,
     "metadata": {},
     "output_type": "execute_result"
    },
    {
     "data": {
      "image/png": "[encoded data removed]",
      "text/plain": [
       "<Figure size 640x480 with 1 Axes>"
      ]
     },
     "metadata": {},
     "output_type": "display_data"
    }
   ],
   "source": [
    "from sklearn.metrics import confusion_matrix\n",
    "\n",
    "final_cm = confusion_matrix(Ytest, adaboost_predictions, labels=[0, 1])\n",
    "df_final_cm = pd.DataFrame(data=final_cm, columns=['Pred No Churn', 'Pred Churn'], index=['Akt No Churn', 'Akt Churn'])\n",
    "sns.heatmap(df_final_cm, cbar=False, annot=True, fmt='d', cmap='summer')"
   ]
  },
  {
   "cell_type": "code",
   "execution_count": 26,
   "metadata": {},
   "outputs": [
    {
     "data": {
      "text/plain": [
       "<Axes: >"
      ]
     },
     "execution_count": 26,
     "metadata": {},
     "output_type": "execute_result"
    },
    {
     "data": {
      "image/png": "[encoded data removed]",
      "text/plain": [
       "<Figure size 640x480 with 1 Axes>"
      ]
     },
     "metadata": {},
     "output_type": "display_data"
    }
   ],
   "source": [
    "from sklearn.metrics import confusion_matrix\n",
    "\n",
    "final_cm = confusion_matrix(Ytest, rf_predictions, labels=[0, 1])\n",
    "df_final_cm = pd.DataFrame(data=final_cm, columns=['Pred No Churn', 'Pred Churn'], index=['Akt No Churn', 'Akt Churn'])\n",
    "sns.heatmap(df_final_cm, cbar=False, annot=True, fmt='d', cmap='summer')"
   ]
  },
  {
   "cell_type": "markdown",
   "metadata": {},
   "source": [
    "RandomForestClassifier memiliki Weighted F1 Score sebesar 0.7891, sementara AdaBoostClassifier mencapai 0.7922. Ini menunjukkan bahwa keduanya memiliki kinerja yang baik dalam memprediksi kelas dengan mempertimbangkan keseimbangan antara presisi dan recall. AdaBoostClassifier sedikit lebih unggul, memberikan nilai Weighted F1 Score yang sedikit lebih tinggi dibandingkan dengan RandomForestClassifier. Pemilihan model dapat disesuaikan dengan preferensi terhadap presisi atau recall, dan evaluasi ini memberikan wawasan untuk pemilihan model yang optimal dalam konteks tugas klasifikasi."
   ]
  },
  {
   "cell_type": "markdown",
   "metadata": {},
   "source": [
    "### Reccomendation"
   ]
  },
  {
   "cell_type": "markdown",
   "metadata": {},
   "source": [
    "Untuk mengembangkan proyek dan meningkatkan kinerja model lebih lanjut, berikut beberapa rekomendasi:\n",
    "\n",
    "- Hyperparameter Tuning pada Model RandomForestClassifier:\n",
    "Lakukan penyetelan ulang hyperparameter pada model RandomForestClassifier. Pastikan untuk mengeksplorasi berbagai kombinasi seperti jumlah pohon (n_estimators), kedalaman maksimum pohon (max_depth), dan parameter lainnya untuk meningkatkan kinerja model ini.\n",
    "\n",
    "- Hyperparameter Tuning pada Model AdaBoostClassifier:\n",
    "Sama seperti pada RandomForestClassifier, lakukan penyetelan ulang hyperparameter pada model AdaBoostClassifier. Fokuskan pada parameter seperti learning rate dan jumlah estimator untuk memperoleh konfigurasi terbaik yang meningkatkan hasil model.\n",
    "\n",
    "- Feature Selection Ulang:\n",
    "Lakukan Feature Selection ulang untuk memastikan fitur yang digunakan oleh model adalah yang paling relevan dan memberikan kontribusi signifikan terhadap prediksi.\n",
    "\n",
    "- Feature Engineering untuk Fitur Tenure dan Contract:\n",
    "Terapkan metode encoding selain yang kami gunakan pada fitur Tenure dan Contract untuk meningkatkan representasi dan interpretasi model terhadap kedua fitur tersebut.\n",
    "\n",
    "- Scaling pada Fitur MonthlyCharges:\n",
    "Lakukan proses scaling pada fitur MonthlyCharges untuk memastikan setiap fitur memiliki skala yang seragam, mendukung model dalam menemukan pola yang lebih baik.\n",
    "\n",
    "- Penambahan Fitur Baru:\n",
    "Pertimbangkan menambahkan fitur baru, seperti kolom rating/kepuasan pelanggan pada 3 bulan pertama berlangganan, untuk memberikan informasi tambahan yang dapat meningkatkan kinerja model.\n",
    "\n",
    "- Analisis Data Hasil Prediksi Salah:\n",
    "Teliti data yang masih salah diprediksi oleh model untuk memahami karakteristiknya. Ini dapat memberikan wawasan yang berharga untuk penyempurnaan model.\n",
    "\n",
    "- Dengan menerapkan rekomendasi ini, diharapkan dapat meningkatkan kinerja model secara signifikan dan memberikan hasil yang lebih baik daripada Weighted F1 Score sebelumnya untuk kedua model RandomForestClassifier dan AdaBoostClassifier."
   ]
  }
 ],
 "metadata": {
  "kernelspec": {
   "display_name": "base",
   "language": "python",
   "name": "python3"
  },
  "language_info": {
   "codemirror_mode": {
    "name": "ipython",
    "version": 3
   },
   "file_extension": ".py",
   "mimetype": "text/x-python",
   "name": "python",
   "nbconvert_exporter": "python",
   "pygments_lexer": "ipython3",
   "version": "3.11.5"
  }
 },
 "nbformat": 4,
 "nbformat_minor": 2
}
